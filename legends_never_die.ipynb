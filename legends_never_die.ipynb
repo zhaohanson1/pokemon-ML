{
 "cells": [
  {
   "cell_type": "code",
   "execution_count": 1,
   "metadata": {},
   "outputs": [],
   "source": [
    "import pandas as pd\n",
    "import numpy as np\n",
    "import matplotlib.pyplot as plt\n",
    "import sklearn."
   ]
  },
  {
   "cell_type": "code",
   "execution_count": 86,
   "metadata": {},
   "outputs": [
    {
     "name": "stdout",
     "output_type": "stream",
     "text": [
      "0.22.0\n"
     ]
    }
   ],
   "source": [
    "#?pd.read_csv\n",
    "print(pd.__version__)"
   ]
  },
  {
   "cell_type": "code",
   "execution_count": 79,
   "metadata": {},
   "outputs": [
    {
     "data": {
      "text/plain": [
       "1986"
      ]
     },
     "execution_count": 79,
     "metadata": {},
     "output_type": "execute_result"
    }
   ],
   "source": []
  },
  {
   "cell_type": "code",
   "execution_count": 87,
   "metadata": {},
   "outputs": [],
   "source": [
    "import re\n",
    "flat_abilities = lambda x: re.findall('(?<=\\')[^,].+?(?=\\')', x)\n",
    "clean_abil = df['abilities'].apply(flat_abilities)\n",
    "abilities = np.hstack(clean_abil.values)\n",
    "uniq_ab = np.unique(abilities)"
   ]
  },
  {
   "cell_type": "code",
   "execution_count": 91,
   "metadata": {},
   "outputs": [
    {
     "data": {
      "text/plain": [
       "0                                [Overgrow, Chlorophyll]\n",
       "1                                [Overgrow, Chlorophyll]\n",
       "2                                [Overgrow, Chlorophyll]\n",
       "3                                   [Blaze, Solar Power]\n",
       "4                                   [Blaze, Solar Power]\n",
       "5                                   [Blaze, Solar Power]\n",
       "6                                   [Torrent, Rain Dish]\n",
       "7                                   [Torrent, Rain Dish]\n",
       "8                                   [Torrent, Rain Dish]\n",
       "9                                [Shield Dust, Run Away]\n",
       "10                                           [Shed Skin]\n",
       "11                           [Compoundeyes, Tinted Lens]\n",
       "12                               [Shield Dust, Run Away]\n",
       "13                                           [Shed Skin]\n",
       "14                                       [Swarm, Sniper]\n",
       "15                   [Keen Eye, Tangled Feet, Big Pecks]\n",
       "16                   [Keen Eye, Tangled Feet, Big Pecks]\n",
       "17                   [Keen Eye, Tangled Feet, Big Pecks]\n",
       "18     [Run Away, Guts, Hustle, Gluttony, Hustle, Thi...\n",
       "19     [Run Away, Guts, Hustle, Gluttony, Hustle, Thi...\n",
       "20                                    [Keen Eye, Sniper]\n",
       "21                                    [Keen Eye, Sniper]\n",
       "22                      [Intimidate, Shed Skin, Unnerve]\n",
       "23                      [Intimidate, Shed Skin, Unnerve]\n",
       "24                                [Static, Lightningrod]\n",
       "25                  [Static, Lightningrod, Surge Surfer]\n",
       "26        [Sand Veil, Sand Rush, Snow Cloak, Slush Rush]\n",
       "27        [Sand Veil, Sand Rush, Snow Cloak, Slush Rush]\n",
       "28                       [Poison Point, Rivalry, Hustle]\n",
       "29                       [Poison Point, Rivalry, Hustle]\n",
       "                             ...                        \n",
       "771                                       [Battle Armor]\n",
       "772                                         [RKS System]\n",
       "773                                       [Shields Down]\n",
       "774                                           [Comatose]\n",
       "775                                        [Shell Armor]\n",
       "776                   [Iron Barbs, Lightningrod, Sturdy]\n",
       "777                                           [Disguise]\n",
       "778                 [Dazzling, Strong Jaw, Wonder Skin ]\n",
       "779                    [Berserk, Sap Sipper, Cloud Nine]\n",
       "780                                        [Steelworker]\n",
       "781                  [Bulletproof, Soundproof, Overcoat]\n",
       "782                  [Bulletproof, Soundproof, Overcoat]\n",
       "783                  [Bulletproof, Soundproof, Overcoat]\n",
       "784                          [Electric Surge, Telepathy]\n",
       "785                           [Psychic Surge, Telepathy]\n",
       "786                            [Grassy Surge, Telepathy]\n",
       "787                             [Misty Surge, Telepathy]\n",
       "788                                            [Unaware]\n",
       "789                                             [Sturdy]\n",
       "790                                    [Full Metal Body]\n",
       "791                                      [Shadow Shield]\n",
       "792                                        [Beast Boost]\n",
       "793                                        [Beast Boost]\n",
       "794                                        [Beast Boost]\n",
       "795                                        [Beast Boost]\n",
       "796                                        [Beast Boost]\n",
       "797                                        [Beast Boost]\n",
       "798                                        [Beast Boost]\n",
       "799                                        [Prism Armor]\n",
       "800                                         [Soul-Heart]\n",
       "Name: abilities, Length: 801, dtype: object"
      ]
     },
     "execution_count": 91,
     "metadata": {},
     "output_type": "execute_result"
    }
   ],
   "source": [
    "clean_abil"
   ]
  },
  {
   "cell_type": "code",
   "execution_count": 4,
   "metadata": {},
   "outputs": [],
   "source": [
    "df = pd.read_csv(\"pokemon.csv\")"
   ]
  }
 ],
 "metadata": {
  "kernelspec": {
   "display_name": "Python 3",
   "language": "python",
   "name": "python3"
  },
  "language_info": {
   "codemirror_mode": {
    "name": "ipython",
    "version": 3
   },
   "file_extension": ".py",
   "mimetype": "text/x-python",
   "name": "python",
   "nbconvert_exporter": "python",
   "pygments_lexer": "ipython3",
   "version": "3.6.4"
  }
 },
 "nbformat": 4,
 "nbformat_minor": 2
}
