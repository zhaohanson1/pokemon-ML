{
 "cells": [
  {
   "cell_type": "code",
   "execution_count": 1,
   "metadata": {},
   "outputs": [
    {
     "name": "stdout",
     "output_type": "stream",
     "text": [
      "0.24.2\n"
     ]
    }
   ],
   "source": [
    "import pandas as pd\n",
    "import numpy as np\n",
    "import scipy as sp\n",
    "import matplotlib.pyplot as plt\n",
    "import re\n",
    "from scipy.sparse import csr_matrix\n",
    "\n",
    "print(pd.__version__)"
   ]
  },
  {
   "cell_type": "code",
   "execution_count": 2,
   "metadata": {},
   "outputs": [],
   "source": [
    "# One-hot on abilities\n",
    "def expand_abilities(df):\n",
    "    clean_abil = df['abilities'].apply(lambda x: re.findall('(?<=\\')[^,].+?(?=\\')', x))\n",
    "    abilities = np.hstack(clean_abil.values)\n",
    "    uniq_ab = np.unique(abilities)\n",
    "    array = np.array(clean_abil)\n",
    "\n",
    "    indptr = [0]\n",
    "    indices = []\n",
    "    data = []\n",
    "    vocab = {}\n",
    "\n",
    "    for pkmn in array:\n",
    "        for ab in pkmn:\n",
    "            index = vocab.setdefault(ab, len(vocab))\n",
    "            indices.append(index)\n",
    "            data.append(1)\n",
    "        indptr.append(len(indices))\n",
    "    one_hot = csr_matrix((data, indices, indptr), dtype=int).toarray()\n",
    "    \n",
    "    df_no_abi = df.drop('abilities', 1)\n",
    "    inv_vocab = {v: k for k, v in vocab.items()}\n",
    "    ordered_abi = [inv_vocab[x] for x in range(len(vocab.keys()))]\n",
    "    df2 = pd.DataFrame()\n",
    "    df2[ordered_abi] = pd.DataFrame(one_hot)\n",
    "    return df2\n",
    "\n",
    "# Combine dataframes\n",
    "def append_df(df1, df2):\n",
    "    for col in df1:\n",
    "        df2[col] = df1[col]\n",
    "    return df2"
   ]
  },
  {
   "cell_type": "code",
   "execution_count": 3,
   "metadata": {},
   "outputs": [],
   "source": [
    "df = pd.read_csv(\"pokemon_revised.csv\", encoding='utf-8')\n",
    "\n",
    "# Drop extra indentifiers\n",
    "df = df.drop('japanese_name', 1)\n",
    "df = df.drop('classfication', 1)\n",
    "#df = df.drop('pokedex_number', 1)\n",
    "\n",
    "oha = expand_abilities(df)\n",
    "df = df.drop('abilities', 1)\n",
    "df = append_df(oha, df)\n",
    "#df.head()"
   ]
  },
  {
   "cell_type": "code",
   "execution_count": 4,
   "metadata": {},
   "outputs": [],
   "source": [
    "# Term-doc the types\n",
    "def one_hot_types(df):\n",
    "    primary_type = pd.get_dummies(df['type1'])\n",
    "    secondary_type = pd.get_dummies(df['type2'])\n",
    "    both_type = primary_type + secondary_type\n",
    "    df = df.drop('type1', 1)\n",
    "    df = df.drop('type2', 1)\n",
    "    return append_df(both_type, df)\n",
    "\n",
    "df = one_hot_types(df)\n",
    "#df.head()"
   ]
  },
  {
   "cell_type": "code",
   "execution_count": 5,
   "metadata": {},
   "outputs": [],
   "source": [
    "def expand_gen(df):\n",
    "    gen_num = pd.get_dummies(df['generation'])\n",
    "    df = df.drop('generation', 1)\n",
    "    df = append_df(gen_num, df)\n",
    "    df.rename(columns = {i: \"gen_%s\" % str(i) for i in range(1,8)}, inplace = True )\n",
    "    return df\n",
    "df = expand_gen(df)\n",
    "#df.head()"
   ]
  },
  {
   "cell_type": "code",
   "execution_count": 6,
   "metadata": {},
   "outputs": [],
   "source": [
    "def create_weakness(df):\n",
    "    re_against = re.compile(\"^against_.+$\")\n",
    "    against_ = [x for x in df.columns.values if re_against.match(x)]\n",
    "    df['weakness'] = df[against_].sum(axis=1)\n",
    "    return df\n",
    "\n",
    "df = create_weakness(df)\n",
    "#df.head()"
   ]
  },
  {
   "cell_type": "code",
   "execution_count": 7,
   "metadata": {},
   "outputs": [
    {
     "data": {
      "text/html": [
       "<div>\n",
       "<style scoped>\n",
       "    .dataframe tbody tr th:only-of-type {\n",
       "        vertical-align: middle;\n",
       "    }\n",
       "\n",
       "    .dataframe tbody tr th {\n",
       "        vertical-align: top;\n",
       "    }\n",
       "\n",
       "    .dataframe thead th {\n",
       "        text-align: right;\n",
       "    }\n",
       "</style>\n",
       "<table border=\"1\" class=\"dataframe\">\n",
       "  <thead>\n",
       "    <tr style=\"text-align: right;\">\n",
       "      <th></th>\n",
       "      <th>attack</th>\n",
       "      <th>base_egg_steps</th>\n",
       "      <th>base_happiness</th>\n",
       "      <th>base_total</th>\n",
       "      <th>capture_rate</th>\n",
       "      <th>defense</th>\n",
       "      <th>experience_growth</th>\n",
       "      <th>height_m</th>\n",
       "      <th>hp</th>\n",
       "      <th>is_legendary</th>\n",
       "      <th>...</th>\n",
       "      <th>against_steel_0.25</th>\n",
       "      <th>against_steel_0.5</th>\n",
       "      <th>against_steel_1.0</th>\n",
       "      <th>against_steel_2.0</th>\n",
       "      <th>against_steel_4.0</th>\n",
       "      <th>against_water_0.25</th>\n",
       "      <th>against_water_0.5</th>\n",
       "      <th>against_water_1.0</th>\n",
       "      <th>against_water_2.0</th>\n",
       "      <th>against_water_4.0</th>\n",
       "    </tr>\n",
       "  </thead>\n",
       "  <tbody>\n",
       "    <tr>\n",
       "      <th>0</th>\n",
       "      <td>49</td>\n",
       "      <td>5120</td>\n",
       "      <td>70</td>\n",
       "      <td>318</td>\n",
       "      <td>45</td>\n",
       "      <td>49</td>\n",
       "      <td>1059860</td>\n",
       "      <td>0.7</td>\n",
       "      <td>45</td>\n",
       "      <td>0</td>\n",
       "      <td>...</td>\n",
       "      <td>0</td>\n",
       "      <td>0</td>\n",
       "      <td>1</td>\n",
       "      <td>0</td>\n",
       "      <td>0</td>\n",
       "      <td>0</td>\n",
       "      <td>1</td>\n",
       "      <td>0</td>\n",
       "      <td>0</td>\n",
       "      <td>0</td>\n",
       "    </tr>\n",
       "    <tr>\n",
       "      <th>1</th>\n",
       "      <td>62</td>\n",
       "      <td>5120</td>\n",
       "      <td>70</td>\n",
       "      <td>405</td>\n",
       "      <td>45</td>\n",
       "      <td>63</td>\n",
       "      <td>1059860</td>\n",
       "      <td>1.0</td>\n",
       "      <td>60</td>\n",
       "      <td>0</td>\n",
       "      <td>...</td>\n",
       "      <td>0</td>\n",
       "      <td>0</td>\n",
       "      <td>1</td>\n",
       "      <td>0</td>\n",
       "      <td>0</td>\n",
       "      <td>0</td>\n",
       "      <td>1</td>\n",
       "      <td>0</td>\n",
       "      <td>0</td>\n",
       "      <td>0</td>\n",
       "    </tr>\n",
       "    <tr>\n",
       "      <th>2</th>\n",
       "      <td>82</td>\n",
       "      <td>5120</td>\n",
       "      <td>70</td>\n",
       "      <td>525</td>\n",
       "      <td>45</td>\n",
       "      <td>83</td>\n",
       "      <td>1059860</td>\n",
       "      <td>2.0</td>\n",
       "      <td>80</td>\n",
       "      <td>0</td>\n",
       "      <td>...</td>\n",
       "      <td>0</td>\n",
       "      <td>0</td>\n",
       "      <td>1</td>\n",
       "      <td>0</td>\n",
       "      <td>0</td>\n",
       "      <td>0</td>\n",
       "      <td>1</td>\n",
       "      <td>0</td>\n",
       "      <td>0</td>\n",
       "      <td>0</td>\n",
       "    </tr>\n",
       "    <tr>\n",
       "      <th>3</th>\n",
       "      <td>52</td>\n",
       "      <td>5120</td>\n",
       "      <td>70</td>\n",
       "      <td>309</td>\n",
       "      <td>45</td>\n",
       "      <td>43</td>\n",
       "      <td>1059860</td>\n",
       "      <td>0.6</td>\n",
       "      <td>39</td>\n",
       "      <td>0</td>\n",
       "      <td>...</td>\n",
       "      <td>0</td>\n",
       "      <td>1</td>\n",
       "      <td>0</td>\n",
       "      <td>0</td>\n",
       "      <td>0</td>\n",
       "      <td>0</td>\n",
       "      <td>0</td>\n",
       "      <td>0</td>\n",
       "      <td>1</td>\n",
       "      <td>0</td>\n",
       "    </tr>\n",
       "    <tr>\n",
       "      <th>4</th>\n",
       "      <td>64</td>\n",
       "      <td>5120</td>\n",
       "      <td>70</td>\n",
       "      <td>405</td>\n",
       "      <td>45</td>\n",
       "      <td>58</td>\n",
       "      <td>1059860</td>\n",
       "      <td>1.1</td>\n",
       "      <td>58</td>\n",
       "      <td>0</td>\n",
       "      <td>...</td>\n",
       "      <td>0</td>\n",
       "      <td>1</td>\n",
       "      <td>0</td>\n",
       "      <td>0</td>\n",
       "      <td>0</td>\n",
       "      <td>0</td>\n",
       "      <td>0</td>\n",
       "      <td>0</td>\n",
       "      <td>1</td>\n",
       "      <td>0</td>\n",
       "    </tr>\n",
       "  </tbody>\n",
       "</table>\n",
       "<p>5 rows × 370 columns</p>\n",
       "</div>"
      ],
      "text/plain": [
       "   attack  base_egg_steps  base_happiness  base_total  capture_rate  defense  \\\n",
       "0      49            5120              70         318            45       49   \n",
       "1      62            5120              70         405            45       63   \n",
       "2      82            5120              70         525            45       83   \n",
       "3      52            5120              70         309            45       43   \n",
       "4      64            5120              70         405            45       58   \n",
       "\n",
       "   experience_growth  height_m  hp  is_legendary  ... against_steel_0.25  \\\n",
       "0            1059860       0.7  45             0  ...                  0   \n",
       "1            1059860       1.0  60             0  ...                  0   \n",
       "2            1059860       2.0  80             0  ...                  0   \n",
       "3            1059860       0.6  39             0  ...                  0   \n",
       "4            1059860       1.1  58             0  ...                  0   \n",
       "\n",
       "   against_steel_0.5  against_steel_1.0  against_steel_2.0  against_steel_4.0  \\\n",
       "0                  0                  1                  0                  0   \n",
       "1                  0                  1                  0                  0   \n",
       "2                  0                  1                  0                  0   \n",
       "3                  1                  0                  0                  0   \n",
       "4                  1                  0                  0                  0   \n",
       "\n",
       "   against_water_0.25  against_water_0.5  against_water_1.0  \\\n",
       "0                   0                  1                  0   \n",
       "1                   0                  1                  0   \n",
       "2                   0                  1                  0   \n",
       "3                   0                  0                  0   \n",
       "4                   0                  0                  0   \n",
       "\n",
       "   against_water_2.0  against_water_4.0  \n",
       "0                  0                  0  \n",
       "1                  0                  0  \n",
       "2                  0                  0  \n",
       "3                  1                  0  \n",
       "4                  1                  0  \n",
       "\n",
       "[5 rows x 370 columns]"
      ]
     },
     "execution_count": 7,
     "metadata": {},
     "output_type": "execute_result"
    }
   ],
   "source": [
    "def expand_against(df):\n",
    "    re_against = re.compile(\"^against_.+$\")\n",
    "    against_ = [x for x in df.columns.values if re_against.match(x)]\n",
    "    for item in against_:\n",
    "        effective = pd.get_dummies(df[item])\n",
    "        effective.rename(columns = {val: \"%s_%s\" % (item, val) for val in effective.columns}, inplace = True)\n",
    "        df = df.drop(item, 1)\n",
    "        df = append_df(effective, df)\n",
    "    return df\n",
    "df = expand_against(df)\n",
    "df.head()"
   ]
  },
  {
   "cell_type": "code",
   "execution_count": 8,
   "metadata": {},
   "outputs": [],
   "source": [
    "# Label\n",
    "poke_names = df['name']\n",
    "legendary_labels = df['is_legendary']\n",
    "df.drop('name', 1, inplace=True)\n",
    "df.drop('is_legendary', 1, inplace=True)"
   ]
  },
  {
   "cell_type": "code",
   "execution_count": 9,
   "metadata": {},
   "outputs": [],
   "source": [
    "# Impute gender\n",
    "df['percentage_female'] = 100 - df['percentage_male']\n",
    "df['percentage_male'].fillna(0, inplace = True)\n",
    "df['percentage_female'].fillna(0, inplace = True)"
   ]
  },
  {
   "cell_type": "code",
   "execution_count": null,
   "metadata": {},
   "outputs": [],
   "source": [
    "df.columns"
   ]
  },
  {
   "cell_type": "markdown",
   "metadata": {},
   "source": [
    "# K-means Clustering\n",
    "\n",
    "Cluster by stats and height/weight"
   ]
  },
  {
   "cell_type": "code",
   "execution_count": null,
   "metadata": {},
   "outputs": [],
   "source": [
    "from sklearn.cluster import KMeans\n",
    "from sklearn.cluster import SpectralClustering\n",
    "\n",
    "from sklearn.decomposition import PCA\n",
    "stats = ['pokedex_number', 'hp', 'attack', 'defense', 'sp_attack', 'sp_defense', 'speed', 'base_total', 'height_m', 'weight_kg', 'weakness']\n",
    "pca = PCA(n_components=3)\n",
    "\n",
    "X = df[stats]\n",
    "#kmeans = SpectralClustering(n_clusters=20, affinity='nearest_neighbors', random_state=10).fit(X[stats[1:]])\n",
    "kmeans = KMeans(n_clusters=15, random_state=5).fit(X[stats[1:]])\n",
    "pred = kmeans.labels_\n",
    "\n",
    "pca.fit(X[stats[1:]]) \n",
    "X_pca = pca.transform(X[stats[1:]])\n",
    "X_pca = X_pca - np.mean(X_pca)\n",
    "X_pca = X_pca / np.max(X_pca)\n",
    "\n",
    "from mpl_toolkits.mplot3d import Axes3D\n",
    "fig = plt.figure()\n",
    "ax = fig.add_subplot(111, projection='3d')\n",
    "ax.scatter(xs=X_pca[:,0], ys=X_pca[:,1], zs=X_pca[:,2], c=pred)\n",
    "\n",
    "for i in range(15):\n",
    "    print(list(poke_names[X[pred == i]['pokedex_number'].values - 1]))\n",
    "    print()\n"
   ]
  },
  {
   "cell_type": "code",
   "execution_count": null,
   "metadata": {},
   "outputs": [],
   "source": [
    "from sklearn.cluster import SpectralClustering\n",
    "\n",
    "pca = PCA(n_components=3)\n",
    "\n",
    "X = df[stats]\n",
    "spec_clust = SpectralClustering(n_clusters=20, affinity='nearest_neighbors', random_state=10).fit(X[stats[1:]])\n",
    "pred = spec_clust.labels_\n",
    "\n",
    "pca.fit(X[stats[1:]]) \n",
    "X_pca = pca.transform(X[stats[1:]])\n",
    "X_pca = X_pca - np.mean(X_pca)\n",
    "X_pca = X_pca / np.max(X_pca)\n",
    "\n",
    "from mpl_toolkits.mplot3d import Axes3D\n",
    "fig = plt.figure()\n",
    "ax = fig.add_subplot(111, projection='3d')\n",
    "ax.scatter(xs=X_pca[:,0], ys=X_pca[:,1], zs=X_pca[:,2], c=pred)\n",
    "\n",
    "for i in range(15):\n",
    "    print(list(poke_names[X[pred == i]['pokedex_number'].values - 1]))\n",
    "    print()"
   ]
  },
  {
   "cell_type": "code",
   "execution_count": null,
   "metadata": {},
   "outputs": [],
   "source": [
    "#df['experience_growth'].fillna(df['experience_growth'].mean(), inplace=True)"
   ]
  },
  {
   "cell_type": "code",
   "execution_count": null,
   "metadata": {},
   "outputs": [],
   "source": [
    "from sklearn import random_projection\n",
    "from sklearn.decomposition import TruncatedSVD\n",
    "\n",
    "tsvd = TruncatedSVD(n_components=17)\n",
    "X_sparse_tsvd = tsvd.fit(both_type).transform(both_type)\n",
    "X_sparse_tsvd.shape\n",
    "\n",
    "transformer = random_projection.SparseRandomProjection()\n",
    "#X_new = transformer.fit_transform(both_type)"
   ]
  },
  {
   "cell_type": "markdown",
   "metadata": {},
   "source": [
    "# BINARY CLASSIFICATION: \n",
    "\n",
    "##### Trying different methods of predicting if a Pokemon is legendary"
   ]
  },
  {
   "cell_type": "code",
   "execution_count": 10,
   "metadata": {},
   "outputs": [],
   "source": [
    "from sklearn.metrics import confusion_matrix\n",
    "from sklearn.utils.multiclass import unique_labels\n",
    "from sklearn.model_selection import train_test_split\n",
    "from sklearn.metrics import accuracy_score\n",
    "\n",
    "def plot_confusion_matrix(y_true, y_pred, classes,\n",
    "                          normalize=False,\n",
    "                          title=None,\n",
    "                          cmap=plt.cm.Blues):\n",
    "    \"\"\"\n",
    "    This function prints and plots the confusion matrix.\n",
    "    Normalization can be applied by setting `normalize=True`.\n",
    "    \"\"\"\n",
    "    if not title:\n",
    "        if normalize:\n",
    "            title = 'Normalized confusion matrix'\n",
    "        else:\n",
    "            title = 'Confusion matrix, without normalization'\n",
    "\n",
    "    # Compute confusion matrix\n",
    "    cm = confusion_matrix(y_true, y_pred)\n",
    "    # Only use the labels that appear in the data\n",
    "    classes = classes[unique_labels(y_true, y_pred)]\n",
    "    if normalize:\n",
    "        cm = cm.astype('float') / cm.sum(axis=1)[:, np.newaxis]\n",
    "        print(\"Normalized confusion matrix\")\n",
    "    else:\n",
    "        print('Confusion matrix, without normalization')\n",
    "\n",
    "    print(cm)\n",
    "\n",
    "    fig, ax = plt.subplots()\n",
    "    im = ax.imshow(cm, interpolation='nearest', cmap=cmap)\n",
    "    ax.figure.colorbar(im, ax=ax)\n",
    "    # We want to show all ticks...\n",
    "    ax.set(xticks=np.arange(cm.shape[1]),\n",
    "           yticks=np.arange(cm.shape[0]),\n",
    "           # ... and label them with the respective list entries\n",
    "           xticklabels=classes, yticklabels=classes,\n",
    "           title=title,\n",
    "           ylabel='True label',\n",
    "           xlabel='Predicted label')\n",
    "\n",
    "    # Rotate the tick labels and set their alignment.\n",
    "    plt.setp(ax.get_xticklabels(), rotation=45, ha=\"right\",\n",
    "             rotation_mode=\"anchor\")\n",
    "\n",
    "    # Loop over data dimensions and create text annotations.\n",
    "    fmt = '.2f' if normalize else 'd'\n",
    "    thresh = cm.max() / 2.\n",
    "    for i in range(cm.shape[0]):\n",
    "        for j in range(cm.shape[1]):\n",
    "            ax.text(j, i, format(cm[i, j], fmt),\n",
    "                    ha=\"center\", va=\"center\",\n",
    "                    color=\"white\" if cm[i, j] > thresh else \"black\")\n",
    "    fig.tight_layout()\n",
    "    return ax\n"
   ]
  },
  {
   "cell_type": "code",
   "execution_count": 126,
   "metadata": {},
   "outputs": [],
   "source": [
    "def print_misclass(X, y_true, y_pred):\n",
    "    match_names = poke_names[X[:,10]-1].values\n",
    "    miss = X[:,10][y_true != y_pred]\n",
    "    \n",
    "    for i in miss:\n",
    "        i = int(i)\n",
    "        if y_true.values[i] == 0:\n",
    "            print(match_names[i] + \" is not a legendary, idiot.\")\n",
    "        else:\n",
    "            print(match_names[i] + \" is a legendary, idiot.\")"
   ]
  },
  {
   "cell_type": "markdown",
   "metadata": {},
   "source": [
    "# Standard SVM"
   ]
  },
  {
   "cell_type": "code",
   "execution_count": null,
   "metadata": {},
   "outputs": [],
   "source": [
    "design_matrix = df.values.astype(np.float32)\n",
    "X_train, X_test, y_train, y_test = train_test_split(\n",
    "    design_matrix, legendary_labels, test_size = 0.15, random_state = 200)"
   ]
  },
  {
   "cell_type": "code",
   "execution_count": null,
   "metadata": {},
   "outputs": [],
   "source": [
    "from sklearn.svm import LinearSVC\n",
    "\n",
    "\n",
    "X2_train, X_val, y2_train, y_val = train_test_split(\n",
    "    X_train, y_train, test_size = 0.15, random_state = 0)\n",
    "\n",
    "max_acc = 0\n",
    "searched_C = -1\n",
    "for c in np.logspace(-10, 10, 50):\n",
    "    clf = LinearSVC(random_state=0, tol=1e-4, C = c)\n",
    "    clf.fit(X2_train, y2_train)\n",
    "    pred_val = clf.predict(X_val)\n",
    "    cm = confusion_matrix(y_val, pred_val)\n",
    "    cm = cm.astype('float') / cm.sum(axis=1)[:, np.newaxis]\n",
    "    val_acc = cm[0][0]+cm[1][1]\n",
    "    if val_acc > max_acc:\n",
    "        max_acc=val_acc\n",
    "        searched_C=c\n",
    "        plot_confusion_matrix(y_val, pred_val, np.array(['Not Legendary', 'Legendary']), normalize=True)"
   ]
  },
  {
   "cell_type": "code",
   "execution_count": null,
   "metadata": {},
   "outputs": [],
   "source": [
    "X_train, X_test, y_train, y_test = train_test_split(\n",
    "    design_matrix, legendary_labels, test_size = 0.15, random_state = 200)\n",
    "X2_train, X_val, y2_train, y_val = train_test_split(\n",
    "    X_train, y_train, test_size = 0.15, random_state = 0)\n",
    "\n",
    "clf = LinearSVC(random_state=0, tol=1e-4, C = searched_C)\n",
    "clf.fit(X2_train, y2_train)\n",
    "pred_test = clf.predict(X_test)\n",
    "plot_confusion_matrix(y_test, pred_test, np.array(['Not Legendary', 'Legendary']), normalize=True)"
   ]
  },
  {
   "cell_type": "code",
   "execution_count": null,
   "metadata": {},
   "outputs": [],
   "source": [
    "\"\"\"print(\"Train: \")\n",
    "match_names = poke_names[X_train[:,10]-1].values\n",
    "for i in range(len(match_names)):\n",
    "    predi = pred_train[i]\n",
    "    if predi:\n",
    "        print(match_names[i]+\" is a legendary.\")\n",
    "    #else:\n",
    "        #print(match_names[i]+\" is a not legendary.\")\n",
    "    \"\"\"\n",
    "        \n",
    "print(\"Test: \")\n",
    "match_names = poke_names[X_test[:,10]-1].values\n",
    "for i in range(len(match_names)):\n",
    "    predi = pred_test[i]\n",
    "    if predi:\n",
    "        print(match_names[i]+\" is a legendary.\")\n",
    "    #else:\n",
    "        #print(match_names[i]+\" is a not legendary.\")"
   ]
  },
  {
   "cell_type": "code",
   "execution_count": null,
   "metadata": {},
   "outputs": [],
   "source": [
    "print_misclass(X_test, y_test, pred_test)"
   ]
  },
  {
   "cell_type": "markdown",
   "metadata": {},
   "source": [
    "## RBF Kernelized SVM"
   ]
  },
  {
   "cell_type": "code",
   "execution_count": null,
   "metadata": {},
   "outputs": [],
   "source": [
    "from sklearn.svm import SVC\n",
    "\n",
    "design_matrix = df.values.astype(np.float32)\n",
    "X_train, X_test, y_train, y_test = train_test_split(\n",
    "    design_matrix, legendary_labels, test_size = 0.15, random_state = 20)\n",
    "X_train, X_validate, y_train, y_validate = train_test_split(\n",
    "    X_train, y_train, test_size = 0.15, random_state = 0)\n",
    "\n",
    "max_acc = 0\n",
    "searched_C = -1\n",
    "for c in np.logspace(-0, 10, 11):\n",
    "    clf = SVC(C = c, kernel = 'rbf', gamma='auto')\n",
    "    clf.fit(X_train, y_train)\n",
    "    \n",
    "    pred_train = clf.predict(X_train)\n",
    "    plot_confusion_matrix(y_train, pred_train, np.array(['Not Legendary', 'Legendary']), normalize=True)\n",
    "    \n",
    "    pred_validate = clf.predict(X_validate)\n",
    "    cm = confusion_matrix(y_validate, pred_validate)\n",
    "    cm = cm.astype('float') / cm.sum(axis=1)[:, np.newaxis]    \n",
    "    validation_acc = cm[0][0]+cm[1][1]\n",
    "    if validation_acc > max_acc:\n",
    "        max_acc=validation_acc\n",
    "        searched_C=c\n",
    "        plot_confusion_matrix(y_validate, pred_validate, np.array(['Not Legendary', 'Legendary']), normalize=True)"
   ]
  },
  {
   "cell_type": "markdown",
   "metadata": {},
   "source": [
    "## Logistic Regression"
   ]
  },
  {
   "cell_type": "code",
   "execution_count": null,
   "metadata": {},
   "outputs": [],
   "source": [
    "from sklearn import linear_model\n",
    "from sklearn.linear_model import LogisticRegressionCV\n",
    "from sklearn.model_selection import train_test_split\n",
    "\n",
    "design_matrix = df.values.astype(np.float32)\n",
    "X_train, X_test, y_train, y_test = train_test_split(\n",
    "    design_matrix, legendary_labels, test_size = 0.4, random_state = 69)"
   ]
  },
  {
   "cell_type": "code",
   "execution_count": null,
   "metadata": {},
   "outputs": [],
   "source": [
    "import time\n",
    "\n",
    "reg = LogisticRegressionCV(Cs=np.logspace(-10, 10, 41), \n",
    "                           fit_intercept=True,\n",
    "                           dual = False,\n",
    "                          solver='lbfgs',\n",
    "                           tol=1e-6,\n",
    "                          max_iter=1e5)\n",
    "\n",
    "start = time.time()\n",
    "reg.fit(X_train, y_train)\n",
    "end = time.time()\n",
    "print(\"Fitting took %s ms\" % str(end-start))"
   ]
  },
  {
   "cell_type": "code",
   "execution_count": null,
   "metadata": {},
   "outputs": [],
   "source": [
    "pred_train = reg.predict(X_train)\n",
    "plot_confusion_matrix(y_train, pred_train, np.array(['Not Legendary', 'Legendary']), normalize=True)\n",
    "\n",
    "pred_test = reg.predict(X_test)\n",
    "plot_confusion_matrix(y_test, pred_test, np.array(['Not Legendary', 'Legendary']), normalize=True)"
   ]
  },
  {
   "cell_type": "code",
   "execution_count": null,
   "metadata": {},
   "outputs": [],
   "source": [
    "#print_misclass(X_train, y_train, pred_train)\n",
    "pred_test = reg.predict(X_train)\n",
    "#print_misclass(X_test, y_test, pred_test)\n",
    "\n",
    "match_names = poke_names[X_train[:,10]-1].values\n",
    "pred_test = reg.predict_proba(X_train)\n",
    "as_prob = np.around(pred_test, decimals=5)[:,1]\n",
    "for i in range(len(match_names)):\n",
    "    print('{:>15}: {:.3%}'.format(match_names[i], as_prob[i]))"
   ]
  },
  {
   "cell_type": "markdown",
   "metadata": {},
   "source": [
    "## Decision Trees"
   ]
  },
  {
   "cell_type": "code",
   "execution_count": 133,
   "metadata": {},
   "outputs": [
    {
     "name": "stdout",
     "output_type": "stream",
     "text": [
      "Confusion matrix, without normalization\n",
      "[[690   0]\n",
      " [  0  74]]\n",
      "Confusion matrix, without normalization\n",
      "[[114   0]\n",
      " [  0  21]]\n"
     ]
    },
    {
     "data": {
      "text/plain": [
       "<matplotlib.axes._subplots.AxesSubplot at 0x1d8c154b978>"
      ]
     },
     "execution_count": 133,
     "metadata": {},
     "output_type": "execute_result"
    },
    {
     "data": {
      "image/png": "[encoded data removed]",
      "text/plain": [
       "<Figure size 432x288 with 2 Axes>"
      ]
     },
     "metadata": {
      "needs_background": "light"
     },
     "output_type": "display_data"
    },
    {
     "data": {
      "image/png": "[encoded data removed]",
      "text/plain": [
       "<Figure size 432x288 with 2 Axes>"
      ]
     },
     "metadata": {
      "needs_background": "light"
     },
     "output_type": "display_data"
    }
   ],
   "source": [
    "from sklearn import tree\n",
    "#df_copy = df.drop('base_egg_steps', axis=1)\n",
    "#df_copy = df_copy.drop('capture_rate', axis=1)\n",
    "#df_copy = df_copy.drop('pokedex_number', axis=1)\n",
    "df_copy = df\n",
    "design_matrix = df_copy.values.astype(np.float32)\n",
    "np.random.seed(0)\n",
    "X_train, X_test, y_train, y_test = train_test_split(\n",
    "    design_matrix, legendary_labels, test_size = 0.15, random_state = 69)\n",
    "\n",
    "clf = tree.DecisionTreeClassifier(min_samples_split =5)\n",
    "clf.fit(X_train, y_train)\n",
    "\n",
    "pred_train = clf.predict(X_train)\n",
    "plot_confusion_matrix(y_train, pred_train, np.array(['Not Legendary', 'Legendary']), normalize=False)\n",
    "pred_test = clf.predict(X_test)\n",
    "plot_confusion_matrix(y_test, pred_test, np.array(['Not Legendary', 'Legendary']), normalize=False)"
   ]
  },
  {
   "cell_type": "code",
   "execution_count": 132,
   "metadata": {},
   "outputs": [
    {
     "name": "stdout",
     "output_type": "stream",
     "text": [
      "Beedrill is not a legendary, idiot.\n",
      "Weepinbell is not a legendary, idiot.\n",
      "Diglett is not a legendary, idiot.\n"
     ]
    }
   ],
   "source": [
    "#print_misclass(X_train, y_train, pred_train)\n",
    "#X_train[:,10]"
   ]
  },
  {
   "cell_type": "code",
   "execution_count": 134,
   "metadata": {},
   "outputs": [],
   "source": [
    "print_misclass(X_test, y_test, pred_test)"
   ]
  },
  {
   "cell_type": "code",
   "execution_count": 135,
   "metadata": {},
   "outputs": [
    {
     "data": {
      "image/svg+xml": [
       "<?xml version=\"1.0\" encoding=\"UTF-8\" standalone=\"no\"?>\r\n",
       "<!DOCTYPE svg PUBLIC \"-//W3C//DTD SVG 1.1//EN\"\r\n",
       " \"http://www.w3.org/Graphics/SVG/1.1/DTD/svg11.dtd\">\r\n",
       "<!-- Generated by graphviz version 2.38.0 (20140413.2041)\r\n",
       " -->\r\n",
       "<!-- Title: Tree Pages: 1 -->\r\n",
       "<svg width=\"644pt\" height=\"433pt\"\r\n",
       " viewBox=\"0.00 0.00 643.50 433.00\" xmlns=\"http://www.w3.org/2000/svg\" xmlns:xlink=\"http://www.w3.org/1999/xlink\">\r\n",
       "<g id=\"graph0\" class=\"graph\" transform=\"scale(1 1) rotate(0) translate(4 429)\">\r\n",
       "<title>Tree</title>\r\n",
       "<polygon fill=\"white\" stroke=\"none\" points=\"-4,4 -4,-429 639.5,-429 639.5,4 -4,4\"/>\r\n",
       "<!-- 0 -->\r\n",
       "<g id=\"node1\" class=\"node\"><title>0</title>\r\n",
       "<polygon fill=\"none\" stroke=\"black\" points=\"427,-425 262,-425 262,-342 427,-342 427,-425\"/>\r\n",
       "<text text-anchor=\"start\" x=\"270\" y=\"-409.8\" font-family=\"Times New Roman,serif\" font-size=\"14.00\">base_egg_steps ≤ 15360.0</text>\r\n",
       "<text text-anchor=\"start\" x=\"311\" y=\"-394.8\" font-family=\"Times New Roman,serif\" font-size=\"14.00\">gini = 0.175</text>\r\n",
       "<text text-anchor=\"start\" x=\"303.5\" y=\"-379.8\" font-family=\"Times New Roman,serif\" font-size=\"14.00\">samples = 764</text>\r\n",
       "<text text-anchor=\"start\" x=\"297\" y=\"-364.8\" font-family=\"Times New Roman,serif\" font-size=\"14.00\">value = [690, 74]</text>\r\n",
       "<text text-anchor=\"start\" x=\"283.5\" y=\"-349.8\" font-family=\"Times New Roman,serif\" font-size=\"14.00\">class = Not legendary</text>\r\n",
       "</g>\r\n",
       "<!-- 1 -->\r\n",
       "<g id=\"node2\" class=\"node\"><title>1</title>\r\n",
       "<polygon fill=\"none\" stroke=\"black\" points=\"339.5,-306 201.5,-306 201.5,-223 339.5,-223 339.5,-306\"/>\r\n",
       "<text text-anchor=\"start\" x=\"219.5\" y=\"-290.8\" font-family=\"Times New Roman,serif\" font-size=\"14.00\">capture_rate ≤ 9.0</text>\r\n",
       "<text text-anchor=\"start\" x=\"237\" y=\"-275.8\" font-family=\"Times New Roman,serif\" font-size=\"14.00\">gini = 0.017</text>\r\n",
       "<text text-anchor=\"start\" x=\"229.5\" y=\"-260.8\" font-family=\"Times New Roman,serif\" font-size=\"14.00\">samples = 694</text>\r\n",
       "<text text-anchor=\"start\" x=\"226.5\" y=\"-245.8\" font-family=\"Times New Roman,serif\" font-size=\"14.00\">value = [688, 6]</text>\r\n",
       "<text text-anchor=\"start\" x=\"209.5\" y=\"-230.8\" font-family=\"Times New Roman,serif\" font-size=\"14.00\">class = Not legendary</text>\r\n",
       "</g>\r\n",
       "<!-- 0&#45;&gt;1 -->\r\n",
       "<g id=\"edge1\" class=\"edge\"><title>0&#45;&gt;1</title>\r\n",
       "<path fill=\"none\" stroke=\"black\" d=\"M318.826,-341.907C313.258,-333.105 307.312,-323.703 301.562,-314.612\"/>\r\n",
       "<polygon fill=\"black\" stroke=\"black\" points=\"304.432,-312.601 296.129,-306.021 298.516,-316.343 304.432,-312.601\"/>\r\n",
       "<text text-anchor=\"middle\" x=\"290.638\" y=\"-326.71\" font-family=\"Times New Roman,serif\" font-size=\"14.00\">True</text>\r\n",
       "</g>\r\n",
       "<!-- 6 -->\r\n",
       "<g id=\"node7\" class=\"node\"><title>6</title>\r\n",
       "<polygon fill=\"none\" stroke=\"black\" points=\"479.5,-306 357.5,-306 357.5,-223 479.5,-223 479.5,-306\"/>\r\n",
       "<text text-anchor=\"start\" x=\"365.5\" y=\"-290.8\" font-family=\"Times New Roman,serif\" font-size=\"14.00\">RKS System ≤ 0.5</text>\r\n",
       "<text text-anchor=\"start\" x=\"385\" y=\"-275.8\" font-family=\"Times New Roman,serif\" font-size=\"14.00\">gini = 0.056</text>\r\n",
       "<text text-anchor=\"start\" x=\"381\" y=\"-260.8\" font-family=\"Times New Roman,serif\" font-size=\"14.00\">samples = 70</text>\r\n",
       "<text text-anchor=\"start\" x=\"377.5\" y=\"-245.8\" font-family=\"Times New Roman,serif\" font-size=\"14.00\">value = [2, 68]</text>\r\n",
       "<text text-anchor=\"start\" x=\"370\" y=\"-230.8\" font-family=\"Times New Roman,serif\" font-size=\"14.00\">class = legendary</text>\r\n",
       "</g>\r\n",
       "<!-- 0&#45;&gt;6 -->\r\n",
       "<g id=\"edge6\" class=\"edge\"><title>0&#45;&gt;6</title>\r\n",
       "<path fill=\"none\" stroke=\"black\" d=\"M370.174,-341.907C375.742,-333.105 381.688,-323.703 387.438,-314.612\"/>\r\n",
       "<polygon fill=\"black\" stroke=\"black\" points=\"390.484,-316.343 392.871,-306.021 384.568,-312.601 390.484,-316.343\"/>\r\n",
       "<text text-anchor=\"middle\" x=\"398.362\" y=\"-326.71\" font-family=\"Times New Roman,serif\" font-size=\"14.00\">False</text>\r\n",
       "</g>\r\n",
       "<!-- 2 -->\r\n",
       "<g id=\"node3\" class=\"node\"><title>2</title>\r\n",
       "<polygon fill=\"none\" stroke=\"black\" points=\"183,-187 70,-187 70,-104 183,-104 183,-187\"/>\r\n",
       "<text text-anchor=\"start\" x=\"93\" y=\"-171.8\" font-family=\"Times New Roman,serif\" font-size=\"14.00\">gen_3 ≤ 0.5</text>\r\n",
       "<text text-anchor=\"start\" x=\"93\" y=\"-156.8\" font-family=\"Times New Roman,serif\" font-size=\"14.00\">gini = 0.444</text>\r\n",
       "<text text-anchor=\"start\" x=\"92.5\" y=\"-141.8\" font-family=\"Times New Roman,serif\" font-size=\"14.00\">samples = 9</text>\r\n",
       "<text text-anchor=\"start\" x=\"89\" y=\"-126.8\" font-family=\"Times New Roman,serif\" font-size=\"14.00\">value = [3, 6]</text>\r\n",
       "<text text-anchor=\"start\" x=\"78\" y=\"-111.8\" font-family=\"Times New Roman,serif\" font-size=\"14.00\">class = legendary</text>\r\n",
       "</g>\r\n",
       "<!-- 1&#45;&gt;2 -->\r\n",
       "<g id=\"edge2\" class=\"edge\"><title>1&#45;&gt;2</title>\r\n",
       "<path fill=\"none\" stroke=\"black\" d=\"M220.54,-222.907C208.812,-213.379 196.221,-203.148 184.186,-193.37\"/>\r\n",
       "<polygon fill=\"black\" stroke=\"black\" points=\"186.34,-190.61 176.372,-187.021 181.926,-196.043 186.34,-190.61\"/>\r\n",
       "</g>\r\n",
       "<!-- 5 -->\r\n",
       "<g id=\"node6\" class=\"node\"><title>5</title>\r\n",
       "<polygon fill=\"none\" stroke=\"black\" points=\"339.5,-179.5 201.5,-179.5 201.5,-111.5 339.5,-111.5 339.5,-179.5\"/>\r\n",
       "<text text-anchor=\"start\" x=\"244\" y=\"-164.3\" font-family=\"Times New Roman,serif\" font-size=\"14.00\">gini = 0.0</text>\r\n",
       "<text text-anchor=\"start\" x=\"229.5\" y=\"-149.3\" font-family=\"Times New Roman,serif\" font-size=\"14.00\">samples = 685</text>\r\n",
       "<text text-anchor=\"start\" x=\"226.5\" y=\"-134.3\" font-family=\"Times New Roman,serif\" font-size=\"14.00\">value = [685, 0]</text>\r\n",
       "<text text-anchor=\"start\" x=\"209.5\" y=\"-119.3\" font-family=\"Times New Roman,serif\" font-size=\"14.00\">class = Not legendary</text>\r\n",
       "</g>\r\n",
       "<!-- 1&#45;&gt;5 -->\r\n",
       "<g id=\"edge5\" class=\"edge\"><title>1&#45;&gt;5</title>\r\n",
       "<path fill=\"none\" stroke=\"black\" d=\"M270.5,-222.907C270.5,-212.204 270.5,-200.615 270.5,-189.776\"/>\r\n",
       "<polygon fill=\"black\" stroke=\"black\" points=\"274,-189.667 270.5,-179.667 267,-189.667 274,-189.667\"/>\r\n",
       "</g>\r\n",
       "<!-- 3 -->\r\n",
       "<g id=\"node4\" class=\"node\"><title>3</title>\r\n",
       "<polygon fill=\"none\" stroke=\"black\" points=\"113,-68 0,-68 0,-0 113,-0 113,-68\"/>\r\n",
       "<text text-anchor=\"start\" x=\"30\" y=\"-52.8\" font-family=\"Times New Roman,serif\" font-size=\"14.00\">gini = 0.0</text>\r\n",
       "<text text-anchor=\"start\" x=\"22.5\" y=\"-37.8\" font-family=\"Times New Roman,serif\" font-size=\"14.00\">samples = 6</text>\r\n",
       "<text text-anchor=\"start\" x=\"19\" y=\"-22.8\" font-family=\"Times New Roman,serif\" font-size=\"14.00\">value = [0, 6]</text>\r\n",
       "<text text-anchor=\"start\" x=\"8\" y=\"-7.8\" font-family=\"Times New Roman,serif\" font-size=\"14.00\">class = legendary</text>\r\n",
       "</g>\r\n",
       "<!-- 2&#45;&gt;3 -->\r\n",
       "<g id=\"edge3\" class=\"edge\"><title>2&#45;&gt;3</title>\r\n",
       "<path fill=\"none\" stroke=\"black\" d=\"M100.435,-103.726C94.8371,-94.9703 88.913,-85.7032 83.2886,-76.9051\"/>\r\n",
       "<polygon fill=\"black\" stroke=\"black\" points=\"86.1226,-74.8399 77.7874,-68.2996 80.2247,-78.6103 86.1226,-74.8399\"/>\r\n",
       "</g>\r\n",
       "<!-- 4 -->\r\n",
       "<g id=\"node5\" class=\"node\"><title>4</title>\r\n",
       "<polygon fill=\"none\" stroke=\"black\" points=\"269.5,-68 131.5,-68 131.5,-0 269.5,-0 269.5,-68\"/>\r\n",
       "<text text-anchor=\"start\" x=\"174\" y=\"-52.8\" font-family=\"Times New Roman,serif\" font-size=\"14.00\">gini = 0.0</text>\r\n",
       "<text text-anchor=\"start\" x=\"166.5\" y=\"-37.8\" font-family=\"Times New Roman,serif\" font-size=\"14.00\">samples = 3</text>\r\n",
       "<text text-anchor=\"start\" x=\"163\" y=\"-22.8\" font-family=\"Times New Roman,serif\" font-size=\"14.00\">value = [3, 0]</text>\r\n",
       "<text text-anchor=\"start\" x=\"139.5\" y=\"-7.8\" font-family=\"Times New Roman,serif\" font-size=\"14.00\">class = Not legendary</text>\r\n",
       "</g>\r\n",
       "<!-- 2&#45;&gt;4 -->\r\n",
       "<g id=\"edge4\" class=\"edge\"><title>2&#45;&gt;4</title>\r\n",
       "<path fill=\"none\" stroke=\"black\" d=\"M154.055,-103.726C160.034,-94.879 166.365,-85.51 172.366,-76.6303\"/>\r\n",
       "<polygon fill=\"black\" stroke=\"black\" points=\"175.297,-78.5448 177.996,-68.2996 169.497,-74.6253 175.297,-78.5448\"/>\r\n",
       "</g>\r\n",
       "<!-- 7 -->\r\n",
       "<g id=\"node8\" class=\"node\"><title>7</title>\r\n",
       "<polygon fill=\"none\" stroke=\"black\" points=\"479,-187 358,-187 358,-104 479,-104 479,-187\"/>\r\n",
       "<text text-anchor=\"start\" x=\"366\" y=\"-171.8\" font-family=\"Times New Roman,serif\" font-size=\"14.00\">Battle Armor ≤ 0.5</text>\r\n",
       "<text text-anchor=\"start\" x=\"385\" y=\"-156.8\" font-family=\"Times New Roman,serif\" font-size=\"14.00\">gini = 0.029</text>\r\n",
       "<text text-anchor=\"start\" x=\"381\" y=\"-141.8\" font-family=\"Times New Roman,serif\" font-size=\"14.00\">samples = 69</text>\r\n",
       "<text text-anchor=\"start\" x=\"377.5\" y=\"-126.8\" font-family=\"Times New Roman,serif\" font-size=\"14.00\">value = [1, 68]</text>\r\n",
       "<text text-anchor=\"start\" x=\"370\" y=\"-111.8\" font-family=\"Times New Roman,serif\" font-size=\"14.00\">class = legendary</text>\r\n",
       "</g>\r\n",
       "<!-- 6&#45;&gt;7 -->\r\n",
       "<g id=\"edge7\" class=\"edge\"><title>6&#45;&gt;7</title>\r\n",
       "<path fill=\"none\" stroke=\"black\" d=\"M418.5,-222.907C418.5,-214.649 418.5,-205.864 418.5,-197.302\"/>\r\n",
       "<polygon fill=\"black\" stroke=\"black\" points=\"422,-197.021 418.5,-187.021 415,-197.021 422,-197.021\"/>\r\n",
       "</g>\r\n",
       "<!-- 10 -->\r\n",
       "<g id=\"node11\" class=\"node\"><title>10</title>\r\n",
       "<polygon fill=\"none\" stroke=\"black\" points=\"635.5,-179.5 497.5,-179.5 497.5,-111.5 635.5,-111.5 635.5,-179.5\"/>\r\n",
       "<text text-anchor=\"start\" x=\"540\" y=\"-164.3\" font-family=\"Times New Roman,serif\" font-size=\"14.00\">gini = 0.0</text>\r\n",
       "<text text-anchor=\"start\" x=\"532.5\" y=\"-149.3\" font-family=\"Times New Roman,serif\" font-size=\"14.00\">samples = 1</text>\r\n",
       "<text text-anchor=\"start\" x=\"529\" y=\"-134.3\" font-family=\"Times New Roman,serif\" font-size=\"14.00\">value = [1, 0]</text>\r\n",
       "<text text-anchor=\"start\" x=\"505.5\" y=\"-119.3\" font-family=\"Times New Roman,serif\" font-size=\"14.00\">class = Not legendary</text>\r\n",
       "</g>\r\n",
       "<!-- 6&#45;&gt;10 -->\r\n",
       "<g id=\"edge10\" class=\"edge\"><title>6&#45;&gt;10</title>\r\n",
       "<path fill=\"none\" stroke=\"black\" d=\"M469.848,-222.907C484.923,-210.99 501.386,-197.976 516.383,-186.12\"/>\r\n",
       "<polygon fill=\"black\" stroke=\"black\" points=\"518.871,-188.614 524.545,-179.667 514.53,-183.123 518.871,-188.614\"/>\r\n",
       "</g>\r\n",
       "<!-- 8 -->\r\n",
       "<g id=\"node9\" class=\"node\"><title>8</title>\r\n",
       "<polygon fill=\"none\" stroke=\"black\" points=\"438,-68 325,-68 325,-0 438,-0 438,-68\"/>\r\n",
       "<text text-anchor=\"start\" x=\"355\" y=\"-52.8\" font-family=\"Times New Roman,serif\" font-size=\"14.00\">gini = 0.0</text>\r\n",
       "<text text-anchor=\"start\" x=\"344\" y=\"-37.8\" font-family=\"Times New Roman,serif\" font-size=\"14.00\">samples = 68</text>\r\n",
       "<text text-anchor=\"start\" x=\"340.5\" y=\"-22.8\" font-family=\"Times New Roman,serif\" font-size=\"14.00\">value = [0, 68]</text>\r\n",
       "<text text-anchor=\"start\" x=\"333\" y=\"-7.8\" font-family=\"Times New Roman,serif\" font-size=\"14.00\">class = legendary</text>\r\n",
       "</g>\r\n",
       "<!-- 7&#45;&gt;8 -->\r\n",
       "<g id=\"edge8\" class=\"edge\"><title>7&#45;&gt;8</title>\r\n",
       "<path fill=\"none\" stroke=\"black\" d=\"M404.723,-103.726C401.887,-95.3351 398.893,-86.4745 396.032,-78.0072\"/>\r\n",
       "<polygon fill=\"black\" stroke=\"black\" points=\"399.269,-76.6529 392.752,-68.2996 392.637,-78.8938 399.269,-76.6529\"/>\r\n",
       "</g>\r\n",
       "<!-- 9 -->\r\n",
       "<g id=\"node10\" class=\"node\"><title>9</title>\r\n",
       "<polygon fill=\"none\" stroke=\"black\" points=\"594.5,-68 456.5,-68 456.5,-0 594.5,-0 594.5,-68\"/>\r\n",
       "<text text-anchor=\"start\" x=\"499\" y=\"-52.8\" font-family=\"Times New Roman,serif\" font-size=\"14.00\">gini = 0.0</text>\r\n",
       "<text text-anchor=\"start\" x=\"491.5\" y=\"-37.8\" font-family=\"Times New Roman,serif\" font-size=\"14.00\">samples = 1</text>\r\n",
       "<text text-anchor=\"start\" x=\"488\" y=\"-22.8\" font-family=\"Times New Roman,serif\" font-size=\"14.00\">value = [1, 0]</text>\r\n",
       "<text text-anchor=\"start\" x=\"464.5\" y=\"-7.8\" font-family=\"Times New Roman,serif\" font-size=\"14.00\">class = Not legendary</text>\r\n",
       "</g>\r\n",
       "<!-- 7&#45;&gt;9 -->\r\n",
       "<g id=\"edge9\" class=\"edge\"><title>7&#45;&gt;9</title>\r\n",
       "<path fill=\"none\" stroke=\"black\" d=\"M458.343,-103.726C467.345,-94.5142 476.899,-84.7364 485.891,-75.5343\"/>\r\n",
       "<polygon fill=\"black\" stroke=\"black\" points=\"488.475,-77.898 492.961,-68.2996 483.468,-73.0057 488.475,-77.898\"/>\r\n",
       "</g>\r\n",
       "</g>\r\n",
       "</svg>\r\n"
      ],
      "text/plain": [
       "<graphviz.files.Source at 0x1d8c1774cc0>"
      ]
     },
     "execution_count": 135,
     "metadata": {},
     "output_type": "execute_result"
    }
   ],
   "source": [
    "import graphviz \n",
    "dot_data = tree.export_graphviz(clf, out_file=None,\n",
    "                                feature_names = df_copy.columns,\n",
    "                               class_names=np.array(['Not legendary', 'legendary']),\n",
    "                               special_characters=True)\n",
    "\n",
    "graph = graphviz.Source(dot_data) \n",
    "graph"
   ]
  },
  {
   "cell_type": "markdown",
   "metadata": {},
   "source": [
    "## Random Forest\n"
   ]
  },
  {
   "cell_type": "code",
   "execution_count": 136,
   "metadata": {},
   "outputs": [
    {
     "name": "stdout",
     "output_type": "stream",
     "text": [
      "Normalized confusion matrix\n",
      "[[1.         0.        ]\n",
      " [0.02631579 0.97368421]]\n",
      "Normalized confusion matrix\n",
      "[[0.99491094 0.00508906]\n",
      " [0.01754386 0.98245614]]\n"
     ]
    },
    {
     "data": {
      "text/plain": [
       "<matplotlib.axes._subplots.AxesSubplot at 0x1d8c16fa7f0>"
      ]
     },
     "execution_count": 136,
     "metadata": {},
     "output_type": "execute_result"
    },
    {
     "data": {
      "image/png": "[encoded data removed]",
      "text/plain": [
       "<Figure size 432x288 with 2 Axes>"
      ]
     },
     "metadata": {
      "needs_background": "light"
     },
     "output_type": "display_data"
    },
    {
     "data": {
      "image/png": "[encoded data removed]",
      "text/plain": [
       "<Figure size 432x288 with 2 Axes>"
      ]
     },
     "metadata": {
      "needs_background": "light"
     },
     "output_type": "display_data"
    }
   ],
   "source": [
    "from sklearn.ensemble import RandomForestClassifier\n",
    "#df_copy = df.drop('base_egg_steps', axis=1)\n",
    "#df_copy = df_copy.drop('capture_rate', axis=1)\n",
    "#df_copy = df_copy.drop('pokedex_number', axis=1)\n",
    "design_matrix = df_copy.values.astype(np.float32)\n",
    "np.random.seed(0)\n",
    "X_train, X_test, y_train, y_test = train_test_split(\n",
    "    design_matrix, legendary_labels, test_size = 0.5, random_state = 69)\n",
    "\n",
    "clf = RandomForestClassifier(n_estimators=5000, \n",
    "                             max_depth=2,\n",
    "                            max_features=100)\n",
    "\n",
    "clf.fit(X_train, y_train)\n",
    "\n",
    "pred_train = clf.predict(X_train)\n",
    "plot_confusion_matrix(y_train, pred_train, np.array(['Not Legendary', 'Legendary']), normalize=True)\n",
    "pred_test = clf.predict(X_test)\n",
    "plot_confusion_matrix(y_test, pred_test, np.array(['Not Legendary', 'Legendary']), normalize=True)"
   ]
  },
  {
   "cell_type": "code",
   "execution_count": 142,
   "metadata": {},
   "outputs": [
    {
     "data": {
      "image/svg+xml": [
       "<?xml version=\"1.0\" encoding=\"UTF-8\" standalone=\"no\"?>\r\n",
       "<!DOCTYPE svg PUBLIC \"-//W3C//DTD SVG 1.1//EN\"\r\n",
       " \"http://www.w3.org/Graphics/SVG/1.1/DTD/svg11.dtd\">\r\n",
       "<!-- Generated by graphviz version 2.38.0 (20140413.2041)\r\n",
       " -->\r\n",
       "<!-- Title: Tree Pages: 1 -->\r\n",
       "<svg width=\"571pt\" height=\"314pt\"\r\n",
       " viewBox=\"0.00 0.00 571.00 314.00\" xmlns=\"http://www.w3.org/2000/svg\" xmlns:xlink=\"http://www.w3.org/1999/xlink\">\r\n",
       "<g id=\"graph0\" class=\"graph\" transform=\"scale(1 1) rotate(0) translate(4 310)\">\r\n",
       "<title>Tree</title>\r\n",
       "<polygon fill=\"white\" stroke=\"none\" points=\"-4,4 -4,-310 567,-310 567,4 -4,4\"/>\r\n",
       "<!-- 0 -->\r\n",
       "<g id=\"node1\" class=\"node\"><title>0</title>\r\n",
       "<polygon fill=\"none\" stroke=\"black\" points=\"350,-306 212,-306 212,-223 350,-223 350,-306\"/>\r\n",
       "<text text-anchor=\"start\" x=\"226.5\" y=\"-290.8\" font-family=\"Times New Roman,serif\" font-size=\"14.00\">capture_rate ≤ 14.0</text>\r\n",
       "<text text-anchor=\"start\" x=\"247.5\" y=\"-275.8\" font-family=\"Times New Roman,serif\" font-size=\"14.00\">gini = 0.136</text>\r\n",
       "<text text-anchor=\"start\" x=\"240\" y=\"-260.8\" font-family=\"Times New Roman,serif\" font-size=\"14.00\">samples = 300</text>\r\n",
       "<text text-anchor=\"start\" x=\"233.5\" y=\"-245.8\" font-family=\"Times New Roman,serif\" font-size=\"14.00\">value = [416, 33]</text>\r\n",
       "<text text-anchor=\"start\" x=\"220\" y=\"-230.8\" font-family=\"Times New Roman,serif\" font-size=\"14.00\">class = Not legendary</text>\r\n",
       "</g>\r\n",
       "<!-- 1 -->\r\n",
       "<g id=\"node2\" class=\"node\"><title>1</title>\r\n",
       "<polygon fill=\"none\" stroke=\"black\" points=\"265.5,-187 152.5,-187 152.5,-104 265.5,-104 265.5,-187\"/>\r\n",
       "<text text-anchor=\"start\" x=\"172.5\" y=\"-171.8\" font-family=\"Times New Roman,serif\" font-size=\"14.00\">speed ≤ 72.5</text>\r\n",
       "<text text-anchor=\"start\" x=\"175.5\" y=\"-156.8\" font-family=\"Times New Roman,serif\" font-size=\"14.00\">gini = 0.257</text>\r\n",
       "<text text-anchor=\"start\" x=\"171.5\" y=\"-141.8\" font-family=\"Times New Roman,serif\" font-size=\"14.00\">samples = 24</text>\r\n",
       "<text text-anchor=\"start\" x=\"168\" y=\"-126.8\" font-family=\"Times New Roman,serif\" font-size=\"14.00\">value = [5, 28]</text>\r\n",
       "<text text-anchor=\"start\" x=\"160.5\" y=\"-111.8\" font-family=\"Times New Roman,serif\" font-size=\"14.00\">class = legendary</text>\r\n",
       "</g>\r\n",
       "<!-- 0&#45;&gt;1 -->\r\n",
       "<g id=\"edge1\" class=\"edge\"><title>0&#45;&gt;1</title>\r\n",
       "<path fill=\"none\" stroke=\"black\" d=\"M256.02,-222.907C250.603,-214.105 244.817,-204.703 239.223,-195.612\"/>\r\n",
       "<polygon fill=\"black\" stroke=\"black\" points=\"242.158,-193.703 233.936,-187.021 236.196,-197.372 242.158,-193.703\"/>\r\n",
       "<text text-anchor=\"middle\" x=\"228.145\" y=\"-207.641\" font-family=\"Times New Roman,serif\" font-size=\"14.00\">True</text>\r\n",
       "</g>\r\n",
       "<!-- 4 -->\r\n",
       "<g id=\"node5\" class=\"node\"><title>4</title>\r\n",
       "<polygon fill=\"none\" stroke=\"black\" points=\"422,-187 284,-187 284,-104 422,-104 422,-187\"/>\r\n",
       "<text text-anchor=\"start\" x=\"308\" y=\"-171.8\" font-family=\"Times New Roman,serif\" font-size=\"14.00\">weight_kg ≤ 0.2</text>\r\n",
       "<text text-anchor=\"start\" x=\"319.5\" y=\"-156.8\" font-family=\"Times New Roman,serif\" font-size=\"14.00\">gini = 0.024</text>\r\n",
       "<text text-anchor=\"start\" x=\"312\" y=\"-141.8\" font-family=\"Times New Roman,serif\" font-size=\"14.00\">samples = 276</text>\r\n",
       "<text text-anchor=\"start\" x=\"309\" y=\"-126.8\" font-family=\"Times New Roman,serif\" font-size=\"14.00\">value = [411, 5]</text>\r\n",
       "<text text-anchor=\"start\" x=\"292\" y=\"-111.8\" font-family=\"Times New Roman,serif\" font-size=\"14.00\">class = Not legendary</text>\r\n",
       "</g>\r\n",
       "<!-- 0&#45;&gt;4 -->\r\n",
       "<g id=\"edge4\" class=\"edge\"><title>0&#45;&gt;4</title>\r\n",
       "<path fill=\"none\" stroke=\"black\" d=\"M305.98,-222.907C311.397,-214.105 317.183,-204.703 322.777,-195.612\"/>\r\n",
       "<polygon fill=\"black\" stroke=\"black\" points=\"325.804,-197.372 328.064,-187.021 319.842,-193.703 325.804,-197.372\"/>\r\n",
       "<text text-anchor=\"middle\" x=\"333.855\" y=\"-207.641\" font-family=\"Times New Roman,serif\" font-size=\"14.00\">False</text>\r\n",
       "</g>\r\n",
       "<!-- 2 -->\r\n",
       "<g id=\"node3\" class=\"node\"><title>2</title>\r\n",
       "<polygon fill=\"none\" stroke=\"black\" points=\"138,-68 0,-68 0,-0 138,-0 138,-68\"/>\r\n",
       "<text text-anchor=\"start\" x=\"42.5\" y=\"-52.8\" font-family=\"Times New Roman,serif\" font-size=\"14.00\">gini = 0.0</text>\r\n",
       "<text text-anchor=\"start\" x=\"35\" y=\"-37.8\" font-family=\"Times New Roman,serif\" font-size=\"14.00\">samples = 3</text>\r\n",
       "<text text-anchor=\"start\" x=\"31.5\" y=\"-22.8\" font-family=\"Times New Roman,serif\" font-size=\"14.00\">value = [5, 0]</text>\r\n",
       "<text text-anchor=\"start\" x=\"8\" y=\"-7.8\" font-family=\"Times New Roman,serif\" font-size=\"14.00\">class = Not legendary</text>\r\n",
       "</g>\r\n",
       "<!-- 1&#45;&gt;2 -->\r\n",
       "<g id=\"edge2\" class=\"edge\"><title>1&#45;&gt;2</title>\r\n",
       "<path fill=\"none\" stroke=\"black\" d=\"M156.869,-103.726C144.741,-94.2406 131.847,-84.1551 119.778,-74.7159\"/>\r\n",
       "<polygon fill=\"black\" stroke=\"black\" points=\"121.608,-71.7035 111.575,-68.2996 117.295,-77.2173 121.608,-71.7035\"/>\r\n",
       "</g>\r\n",
       "<!-- 3 -->\r\n",
       "<g id=\"node4\" class=\"node\"><title>3</title>\r\n",
       "<polygon fill=\"none\" stroke=\"black\" points=\"269.5,-68 156.5,-68 156.5,-0 269.5,-0 269.5,-68\"/>\r\n",
       "<text text-anchor=\"start\" x=\"186.5\" y=\"-52.8\" font-family=\"Times New Roman,serif\" font-size=\"14.00\">gini = 0.0</text>\r\n",
       "<text text-anchor=\"start\" x=\"175.5\" y=\"-37.8\" font-family=\"Times New Roman,serif\" font-size=\"14.00\">samples = 21</text>\r\n",
       "<text text-anchor=\"start\" x=\"172\" y=\"-22.8\" font-family=\"Times New Roman,serif\" font-size=\"14.00\">value = [0, 28]</text>\r\n",
       "<text text-anchor=\"start\" x=\"164.5\" y=\"-7.8\" font-family=\"Times New Roman,serif\" font-size=\"14.00\">class = legendary</text>\r\n",
       "</g>\r\n",
       "<!-- 1&#45;&gt;3 -->\r\n",
       "<g id=\"edge3\" class=\"edge\"><title>1&#45;&gt;3</title>\r\n",
       "<path fill=\"none\" stroke=\"black\" d=\"M210.489,-103.726C210.789,-95.5175 211.106,-86.8595 211.409,-78.56\"/>\r\n",
       "<polygon fill=\"black\" stroke=\"black\" points=\"214.916,-78.4207 211.784,-68.2996 207.921,-78.1651 214.916,-78.4207\"/>\r\n",
       "</g>\r\n",
       "<!-- 5 -->\r\n",
       "<g id=\"node6\" class=\"node\"><title>5</title>\r\n",
       "<polygon fill=\"none\" stroke=\"black\" points=\"406.5,-68 293.5,-68 293.5,-0 406.5,-0 406.5,-68\"/>\r\n",
       "<text text-anchor=\"start\" x=\"320\" y=\"-52.8\" font-family=\"Times New Roman,serif\" font-size=\"14.00\">gini = 0.32</text>\r\n",
       "<text text-anchor=\"start\" x=\"316\" y=\"-37.8\" font-family=\"Times New Roman,serif\" font-size=\"14.00\">samples = 3</text>\r\n",
       "<text text-anchor=\"start\" x=\"312.5\" y=\"-22.8\" font-family=\"Times New Roman,serif\" font-size=\"14.00\">value = [1, 4]</text>\r\n",
       "<text text-anchor=\"start\" x=\"301.5\" y=\"-7.8\" font-family=\"Times New Roman,serif\" font-size=\"14.00\">class = legendary</text>\r\n",
       "</g>\r\n",
       "<!-- 4&#45;&gt;5 -->\r\n",
       "<g id=\"edge5\" class=\"edge\"><title>4&#45;&gt;5</title>\r\n",
       "<path fill=\"none\" stroke=\"black\" d=\"M351.883,-103.726C351.658,-95.5175 351.421,-86.8595 351.193,-78.56\"/>\r\n",
       "<polygon fill=\"black\" stroke=\"black\" points=\"354.685,-78.2 350.912,-68.2996 347.688,-78.3917 354.685,-78.2\"/>\r\n",
       "</g>\r\n",
       "<!-- 6 -->\r\n",
       "<g id=\"node7\" class=\"node\"><title>6</title>\r\n",
       "<polygon fill=\"none\" stroke=\"black\" points=\"563,-68 425,-68 425,-0 563,-0 563,-68\"/>\r\n",
       "<text text-anchor=\"start\" x=\"460.5\" y=\"-52.8\" font-family=\"Times New Roman,serif\" font-size=\"14.00\">gini = 0.005</text>\r\n",
       "<text text-anchor=\"start\" x=\"453\" y=\"-37.8\" font-family=\"Times New Roman,serif\" font-size=\"14.00\">samples = 273</text>\r\n",
       "<text text-anchor=\"start\" x=\"450\" y=\"-22.8\" font-family=\"Times New Roman,serif\" font-size=\"14.00\">value = [410, 1]</text>\r\n",
       "<text text-anchor=\"start\" x=\"433\" y=\"-7.8\" font-family=\"Times New Roman,serif\" font-size=\"14.00\">class = Not legendary</text>\r\n",
       "</g>\r\n",
       "<!-- 4&#45;&gt;6 -->\r\n",
       "<g id=\"edge6\" class=\"edge\"><title>4&#45;&gt;6</title>\r\n",
       "<path fill=\"none\" stroke=\"black\" d=\"M405.503,-103.726C417.835,-94.1494 430.954,-83.9611 443.209,-74.4438\"/>\r\n",
       "<polygon fill=\"black\" stroke=\"black\" points=\"445.37,-77.1975 451.121,-68.2996 441.076,-71.6689 445.37,-77.1975\"/>\r\n",
       "</g>\r\n",
       "</g>\r\n",
       "</svg>\r\n"
      ],
      "text/plain": [
       "<graphviz.files.Source at 0x1d8c124c780>"
      ]
     },
     "execution_count": 142,
     "metadata": {},
     "output_type": "execute_result"
    }
   ],
   "source": [
    "from sklearn.tree import export_graphviz\n",
    "dot_data = export_graphviz(clf.estimators_[np.random.randint(0,5001)], out_file=None,\n",
    "                                feature_names = df_copy.columns,\n",
    "                               class_names=np.array(['Not legendary', 'legendary']),\n",
    "                               special_characters=True)\n",
    "\n",
    "graph = graphviz.Source(dot_data) \n",
    "graph"
   ]
  },
  {
   "cell_type": "code",
   "execution_count": 75,
   "metadata": {},
   "outputs": [
    {
     "data": {
      "text/plain": [
       "5"
      ]
     },
     "execution_count": 75,
     "metadata": {},
     "output_type": "execute_result"
    }
   ],
   "source": []
  }
 ],
 "metadata": {
  "kernelspec": {
   "display_name": "Python 3",
   "language": "python",
   "name": "python3"
  },
  "language_info": {
   "codemirror_mode": {
    "name": "ipython",
    "version": 3
   },
   "file_extension": ".py",
   "mimetype": "text/x-python",
   "name": "python",
   "nbconvert_exporter": "python",
   "pygments_lexer": "ipython3",
   "version": "3.6.8"
  }
 },
 "nbformat": 4,
 "nbformat_minor": 2
}
